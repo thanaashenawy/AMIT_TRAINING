{
 "cells": [
  {
   "cell_type": "markdown",
   "id": "781e820d",
   "metadata": {},
   "source": [
    "Use for, .split(), and if to create a Statement that will print out words that start with 's':"
   ]
  },
  {
   "cell_type": "code",
   "execution_count": null,
   "id": "e678608e",
   "metadata": {},
   "outputs": [],
   "source": [
    "st = 'Print only the words that start with s in this sentence'\n"
   ]
  },
  {
   "cell_type": "code",
   "execution_count": 87,
   "id": "cb72354d",
   "metadata": {},
   "outputs": [],
   "source": [
    "x=[[\"Print\"],[\"only\"],[ \"the\"],[\"words\"],[\"that\"],['start '],['with'],[\"s\"],[\" in\"],[\"this\"],[\"sentence\"]]"
   ]
  },
  {
   "cell_type": "code",
   "execution_count": 88,
   "id": "b205c821",
   "metadata": {},
   "outputs": [],
   "source": [
    "x=[litter[0]for litter in x]"
   ]
  },
  {
   "cell_type": "code",
   "execution_count": 89,
   "id": "a897c340",
   "metadata": {},
   "outputs": [
    {
     "data": {
      "text/plain": [
       "['Print',\n",
       " 'only',\n",
       " 'the',\n",
       " 'words',\n",
       " 'that',\n",
       " 'start ',\n",
       " 'with',\n",
       " 's',\n",
       " ' in',\n",
       " 'this',\n",
       " 'sentence']"
      ]
     },
     "execution_count": 89,
     "metadata": {},
     "output_type": "execute_result"
    }
   ],
   "source": [
    "x"
   ]
  },
  {
   "cell_type": "markdown",
   "id": "ce938021",
   "metadata": {},
   "source": [
    "Use range() to print all the even numbers from 0 to 10.\n"
   ]
  },
  {
   "cell_type": "code",
   "execution_count": null,
   "id": "e507a2b4",
   "metadata": {},
   "outputs": [],
   "source": [
    "x=range(11)"
   ]
  },
  {
   "cell_type": "code",
   "execution_count": 17,
   "id": "df7a23fc",
   "metadata": {},
   "outputs": [
    {
     "data": {
      "text/plain": [
       "range(0, 11)"
      ]
     },
     "execution_count": 17,
     "metadata": {},
     "output_type": "execute_result"
    }
   ],
   "source": [
    "x"
   ]
  },
  {
   "cell_type": "code",
   "execution_count": 19,
   "id": "32c1f3a5",
   "metadata": {},
   "outputs": [
    {
     "name": "stdout",
     "output_type": "stream",
     "text": [
      "0\n",
      "2\n",
      "4\n",
      "6\n",
      "8\n",
      "10\n"
     ]
    }
   ],
   "source": [
    "for num in x:\n",
    "    if num %2 ==0:\n",
    "        print(num)\n",
    "        "
   ]
  },
  {
   "cell_type": "markdown",
   "id": "9a369be4",
   "metadata": {},
   "source": [
    "Use a List Comprehension to create a list of all numbers between 1 and 50 that are divisible by 3."
   ]
  },
  {
   "cell_type": "code",
   "execution_count": 48,
   "id": "85ac32fd",
   "metadata": {},
   "outputs": [],
   "source": [
    "x= list(range(1,51))"
   ]
  },
  {
   "cell_type": "code",
   "execution_count": 49,
   "id": "03077e3c",
   "metadata": {},
   "outputs": [
    {
     "data": {
      "text/plain": [
       "[1,\n",
       " 2,\n",
       " 3,\n",
       " 4,\n",
       " 5,\n",
       " 6,\n",
       " 7,\n",
       " 8,\n",
       " 9,\n",
       " 10,\n",
       " 11,\n",
       " 12,\n",
       " 13,\n",
       " 14,\n",
       " 15,\n",
       " 16,\n",
       " 17,\n",
       " 18,\n",
       " 19,\n",
       " 20,\n",
       " 21,\n",
       " 22,\n",
       " 23,\n",
       " 24,\n",
       " 25,\n",
       " 26,\n",
       " 27,\n",
       " 28,\n",
       " 29,\n",
       " 30,\n",
       " 31,\n",
       " 32,\n",
       " 33,\n",
       " 34,\n",
       " 35,\n",
       " 36,\n",
       " 37,\n",
       " 38,\n",
       " 39,\n",
       " 40,\n",
       " 41,\n",
       " 42,\n",
       " 43,\n",
       " 44,\n",
       " 45,\n",
       " 46,\n",
       " 47,\n",
       " 48,\n",
       " 49,\n",
       " 50]"
      ]
     },
     "execution_count": 49,
     "metadata": {},
     "output_type": "execute_result"
    }
   ],
   "source": [
    "x"
   ]
  },
  {
   "cell_type": "code",
   "execution_count": 50,
   "id": "e3c560fe",
   "metadata": {},
   "outputs": [
    {
     "name": "stdout",
     "output_type": "stream",
     "text": [
      "3\n",
      "6\n",
      "9\n",
      "12\n",
      "15\n",
      "18\n",
      "21\n",
      "24\n",
      "27\n",
      "30\n",
      "33\n",
      "36\n",
      "39\n",
      "42\n",
      "45\n",
      "48\n"
     ]
    }
   ],
   "source": [
    "for num in x:\n",
    "    if num %3 == 0:\n",
    "        print(num)"
   ]
  },
  {
   "cell_type": "markdown",
   "id": "f2ae95e2",
   "metadata": {},
   "source": [
    "Go through the string below and if the length of a word is even print \"even!\"\n",
    "\n",
    "\n",
    "\n"
   ]
  },
  {
   "cell_type": "code",
   "execution_count": 37,
   "id": "376d9008",
   "metadata": {},
   "outputs": [],
   "source": [
    "st = 'Print every word in this sentence that has an even number of letters'"
   ]
  },
  {
   "cell_type": "code",
   "execution_count": 40,
   "id": "d40e853d",
   "metadata": {},
   "outputs": [],
   "source": [
    "z=len(st)"
   ]
  },
  {
   "cell_type": "code",
   "execution_count": 41,
   "id": "9fc226ae",
   "metadata": {},
   "outputs": [
    {
     "data": {
      "text/plain": [
       "68"
      ]
     },
     "execution_count": 41,
     "metadata": {},
     "output_type": "execute_result"
    }
   ],
   "source": [
    "z"
   ]
  },
  {
   "cell_type": "code",
   "execution_count": 42,
   "id": "0dd84082",
   "metadata": {},
   "outputs": [
    {
     "name": "stdout",
     "output_type": "stream",
     "text": [
      "even\n"
     ]
    }
   ],
   "source": [
    "if z%2 ==0:\n",
    "    print('even')"
   ]
  },
  {
   "cell_type": "markdown",
   "id": "4c644f63",
   "metadata": {},
   "source": [
    "Write a program that prints the integers from 1 to 100. But for multiples of three print \"Fizz\" instead of the number, and for the multiples of five print \"Buzz\". For numbers which are multiples of both three and five print \"FizzBuzz\"."
   ]
  },
  {
   "cell_type": "code",
   "execution_count": 51,
   "id": "be0d094e",
   "metadata": {},
   "outputs": [],
   "source": [
    "x= list(range(1,101))"
   ]
  },
  {
   "cell_type": "code",
   "execution_count": 52,
   "id": "09725437",
   "metadata": {},
   "outputs": [
    {
     "data": {
      "text/plain": [
       "[1,\n",
       " 2,\n",
       " 3,\n",
       " 4,\n",
       " 5,\n",
       " 6,\n",
       " 7,\n",
       " 8,\n",
       " 9,\n",
       " 10,\n",
       " 11,\n",
       " 12,\n",
       " 13,\n",
       " 14,\n",
       " 15,\n",
       " 16,\n",
       " 17,\n",
       " 18,\n",
       " 19,\n",
       " 20,\n",
       " 21,\n",
       " 22,\n",
       " 23,\n",
       " 24,\n",
       " 25,\n",
       " 26,\n",
       " 27,\n",
       " 28,\n",
       " 29,\n",
       " 30,\n",
       " 31,\n",
       " 32,\n",
       " 33,\n",
       " 34,\n",
       " 35,\n",
       " 36,\n",
       " 37,\n",
       " 38,\n",
       " 39,\n",
       " 40,\n",
       " 41,\n",
       " 42,\n",
       " 43,\n",
       " 44,\n",
       " 45,\n",
       " 46,\n",
       " 47,\n",
       " 48,\n",
       " 49,\n",
       " 50,\n",
       " 51,\n",
       " 52,\n",
       " 53,\n",
       " 54,\n",
       " 55,\n",
       " 56,\n",
       " 57,\n",
       " 58,\n",
       " 59,\n",
       " 60,\n",
       " 61,\n",
       " 62,\n",
       " 63,\n",
       " 64,\n",
       " 65,\n",
       " 66,\n",
       " 67,\n",
       " 68,\n",
       " 69,\n",
       " 70,\n",
       " 71,\n",
       " 72,\n",
       " 73,\n",
       " 74,\n",
       " 75,\n",
       " 76,\n",
       " 77,\n",
       " 78,\n",
       " 79,\n",
       " 80,\n",
       " 81,\n",
       " 82,\n",
       " 83,\n",
       " 84,\n",
       " 85,\n",
       " 86,\n",
       " 87,\n",
       " 88,\n",
       " 89,\n",
       " 90,\n",
       " 91,\n",
       " 92,\n",
       " 93,\n",
       " 94,\n",
       " 95,\n",
       " 96,\n",
       " 97,\n",
       " 98,\n",
       " 99,\n",
       " 100]"
      ]
     },
     "execution_count": 52,
     "metadata": {},
     "output_type": "execute_result"
    }
   ],
   "source": [
    "x"
   ]
  },
  {
   "cell_type": "code",
   "execution_count": 55,
   "id": "ccac104d",
   "metadata": {},
   "outputs": [
    {
     "name": "stdout",
     "output_type": "stream",
     "text": [
      "fizz\n",
      "buzz\n",
      "fizz\n",
      "fizz\n",
      "buzz\n",
      "fizz\n",
      "fizz\n",
      "fizz\n",
      "buzz\n",
      "fizz\n",
      "fizz\n",
      "buzz\n",
      "fizz\n",
      "fizz\n",
      "fizz\n",
      "buzz\n",
      "fizz\n",
      "fizz\n",
      "buzz\n",
      "fizz\n",
      "fizz\n",
      "fizz\n",
      "buzz\n",
      "fizz\n",
      "fizz\n",
      "buzz\n",
      "fizz\n",
      "fizz\n",
      "fizz\n",
      "buzz\n",
      "fizz\n",
      "fizz\n",
      "buzz\n",
      "fizz\n",
      "fizz\n",
      "fizz\n",
      "buzz\n",
      "fizz\n",
      "fizz\n",
      "buzz\n",
      "fizz\n",
      "fizz\n",
      "fizz\n",
      "buzz\n",
      "fizz\n",
      "fizz\n",
      "buzz\n"
     ]
    }
   ],
   "source": [
    "for num in x :\n",
    "    if num%3==0:\n",
    "        print('fizz')\n",
    "    elif num%5==0:\n",
    "        print('buzz')\n",
    "    elif num%3==0 and num%5==0:\n",
    "        print('fizzbuzz')\n",
    "\n",
    "    "
   ]
  },
  {
   "cell_type": "markdown",
   "id": "de25fe6e",
   "metadata": {},
   "source": [
    "anather solution '"
   ]
  },
  {
   "cell_type": "code",
   "execution_count": 56,
   "id": "b903e029",
   "metadata": {},
   "outputs": [
    {
     "name": "stdout",
     "output_type": "stream",
     "text": [
      "fizz\n",
      "fizz\n",
      "fizz\n",
      "fizz\n",
      "fizz\n",
      "fizz\n",
      "fizz\n",
      "fizz\n",
      "fizz\n",
      "fizz\n",
      "fizz\n",
      "fizz\n",
      "fizz\n",
      "fizz\n",
      "fizz\n",
      "fizz\n",
      "fizz\n",
      "fizz\n",
      "fizz\n",
      "fizz\n",
      "fizz\n",
      "fizz\n",
      "fizz\n",
      "fizz\n",
      "fizz\n",
      "fizz\n",
      "fizz\n",
      "fizz\n",
      "fizz\n",
      "fizz\n",
      "fizz\n",
      "fizz\n",
      "fizz\n",
      "fizz\n",
      "fizz\n",
      "fizz\n",
      "fizz\n",
      "fizz\n",
      "fizz\n",
      "fizz\n",
      "fizz\n",
      "fizz\n",
      "fizz\n",
      "fizz\n",
      "fizz\n",
      "fizz\n",
      "fizz\n",
      "fizz\n",
      "fizz\n",
      "fizz\n",
      "fizz\n",
      "fizz\n",
      "fizz\n",
      "fizz\n",
      "fizz\n",
      "fizz\n",
      "fizz\n",
      "fizz\n",
      "fizz\n",
      "fizz\n",
      "fizz\n",
      "fizz\n",
      "fizz\n",
      "fizz\n",
      "fizz\n",
      "fizz\n",
      "fizz\n",
      "fizz\n",
      "fizz\n",
      "fizz\n",
      "fizz\n",
      "fizz\n",
      "fizz\n",
      "fizz\n",
      "fizz\n",
      "fizz\n",
      "fizz\n",
      "fizz\n",
      "fizz\n",
      "fizz\n",
      "fizz\n",
      "fizz\n",
      "fizz\n",
      "fizz\n",
      "fizz\n",
      "fizz\n",
      "fizz\n",
      "fizz\n",
      "fizz\n",
      "fizz\n",
      "fizz\n",
      "fizz\n",
      "fizz\n",
      "fizz\n",
      "fizz\n",
      "fizz\n",
      "fizz\n",
      "fizz\n",
      "fizz\n",
      "fizz\n"
     ]
    }
   ],
   "source": [
    "for num in x :\n",
    "    if num*3:\n",
    "        print('fizz')\n",
    "    elif num*5:\n",
    "        print('buzz')\n",
    "    elif num*3 and num*5:\n",
    "        print('fizzbuzz')\n"
   ]
  },
  {
   "cell_type": "markdown",
   "id": "a58a6582",
   "metadata": {},
   "source": [
    "Use List Comprehension to create a list of the first letters of every word in the string below:\n",
    "\n",
    "\n",
    "\n"
   ]
  },
  {
   "cell_type": "code",
   "execution_count": 68,
   "id": "71b856cf",
   "metadata": {},
   "outputs": [],
   "source": [
    "st = 'Create' 'a list' 'of' 'the' 'first' 'letters' 'of' 'every' 'word' 'in' 'this' 'string'"
   ]
  },
  {
   "cell_type": "code",
   "execution_count": 69,
   "id": "7b939798",
   "metadata": {},
   "outputs": [],
   "source": [
    "x= list(st)"
   ]
  },
  {
   "cell_type": "code",
   "execution_count": 72,
   "id": "1dba5aa9",
   "metadata": {},
   "outputs": [],
   "source": [
    "x=[[\"Create\"],[\"a list\"],['of'],['the'],['first'],['letters'],['of'],['every'],['word'],['in'],['this'],['string']]"
   ]
  },
  {
   "cell_type": "code",
   "execution_count": 75,
   "id": "79f4330c",
   "metadata": {},
   "outputs": [],
   "source": [
    "x=[letter[0][0]for letter in x]"
   ]
  },
  {
   "cell_type": "code",
   "execution_count": 76,
   "id": "a58c8427",
   "metadata": {},
   "outputs": [
    {
     "data": {
      "text/plain": [
       "['C', 'a', 'o', 't', 'f', 'l', 'o', 'e', 'w', 'i', 't', 's']"
      ]
     },
     "execution_count": 76,
     "metadata": {},
     "output_type": "execute_result"
    }
   ],
   "source": [
    "x"
   ]
  },
  {
   "cell_type": "code",
   "execution_count": null,
   "id": "672b756e",
   "metadata": {},
   "outputs": [],
   "source": []
  }
 ],
 "metadata": {
  "kernelspec": {
   "display_name": "Python 3 (ipykernel)",
   "language": "python",
   "name": "python3"
  },
  "language_info": {
   "codemirror_mode": {
    "name": "ipython",
    "version": 3
   },
   "file_extension": ".py",
   "mimetype": "text/x-python",
   "name": "python",
   "nbconvert_exporter": "python",
   "pygments_lexer": "ipython3",
   "version": "3.9.12"
  }
 },
 "nbformat": 4,
 "nbformat_minor": 5
}
