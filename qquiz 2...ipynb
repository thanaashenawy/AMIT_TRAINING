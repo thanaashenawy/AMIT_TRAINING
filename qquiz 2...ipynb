{
 "cells": [
  {
   "cell_type": "markdown",
   "id": "5d9c5b65",
   "metadata": {},
   "source": [
    "LESSER OF TWO EVENS: Write a function that returns the lesser of two given numbers if both numbers are even, but returns the greater if one or both numbers are odd"
   ]
  },
  {
   "cell_type": "code",
   "execution_count": 13,
   "id": "2fd8f218",
   "metadata": {},
   "outputs": [
    {
     "ename": "IndentationError",
     "evalue": "expected an indented block (1843303597.py, line 4)",
     "output_type": "error",
     "traceback": [
      "\u001b[1;36m  Input \u001b[1;32mIn [13]\u001b[1;36m\u001b[0m\n\u001b[1;33m    return b\u001b[0m\n\u001b[1;37m    ^\u001b[0m\n\u001b[1;31mIndentationError\u001b[0m\u001b[1;31m:\u001b[0m expected an indented block\n"
     ]
    }
   ],
   "source": [
    "def lesser_of_two_evens(a,b):\n",
    "    if a%2==0 and b%2==0:\n",
    "        if a>b:\n",
    "    return b\n",
    "else:\n",
    "    if a>b:\n",
    "        return a\n",
    "    else:\n",
    "        return b"
   ]
  },
  {
   "cell_type": "code",
   "execution_count": 14,
   "id": "65108b0e",
   "metadata": {},
   "outputs": [
    {
     "ename": "SyntaxError",
     "evalue": "invalid syntax (1462729505.py, line 1)",
     "output_type": "error",
     "traceback": [
      "\u001b[1;36m  Input \u001b[1;32mIn [14]\u001b[1;36m\u001b[0m\n\u001b[1;33m    def lesser_of_two_evens(c,d)\u001b[0m\n\u001b[1;37m                                ^\u001b[0m\n\u001b[1;31mSyntaxError\u001b[0m\u001b[1;31m:\u001b[0m invalid syntax\n"
     ]
    }
   ],
   "source": [
    "def lesser_of_two_evens(a,b)\n",
    "if a%3==0 or b%3==0:\n",
    "    if a>b:\n",
    "        return a\n",
    "    if a<b:\n",
    "        return b"
   ]
  },
  {
   "cell_type": "markdown",
   "id": "b6186c17",
   "metadata": {},
   "source": [
    "ANIMAL CRACKERS: Write a function takes a two-word string and returns True if both words begin with same letter\n",
    "animal_crackers('Levelheaded Llama') --> True\n",
    "animal_crackers('Crazy Kangaroo') --> False"
   ]
  },
  {
   "cell_type": "code",
   "execution_count": 14,
   "id": "68bbffc8",
   "metadata": {},
   "outputs": [
    {
     "ename": "IndentationError",
     "evalue": "expected an indented block (308005791.py, line 2)",
     "output_type": "error",
     "traceback": [
      "\u001b[1;36m  Input \u001b[1;32mIn [14]\u001b[1;36m\u001b[0m\n\u001b[1;33m    word=input('enter a two word seprated by space \\n')\u001b[0m\n\u001b[1;37m    ^\u001b[0m\n\u001b[1;31mIndentationError\u001b[0m\u001b[1;31m:\u001b[0m expected an indented block\n"
     ]
    }
   ],
   "source": [
    "def animal_crackers(text):\n",
    "word=input('enter a two word seprated by space \\n')\n",
    "animal_crackers=word.split()\n",
    "if animal_crackers(text)[0][0]==animal_crackers(text)[1][0]:\n",
    "    print('true')\n",
    "else:\n",
    "    print('false')"
   ]
  },
  {
   "cell_type": "markdown",
   "id": "37aca2ee",
   "metadata": {},
   "source": [
    "MAKES TWENTY: Given two integers, return True if the sum of the integers is 20 or if one of the integers is 20. If not, return False\n",
    "makes_twenty(20,10) --> True\n",
    "makes_twenty(12,8) --> True\n",
    "makes_twenty(2,3) --> False"
   ]
  },
  {
   "cell_type": "code",
   "execution_count": 24,
   "id": "9967c0c2",
   "metadata": {},
   "outputs": [],
   "source": [
    "def integer(num1,num2):\n",
    "    if num1+num2==20 or num1 or num2 ==20:\n",
    "        print('true')\n",
    "    else:\n",
    "        print('false')"
   ]
  },
  {
   "cell_type": "code",
   "execution_count": 25,
   "id": "e1c3d12e",
   "metadata": {},
   "outputs": [
    {
     "name": "stdout",
     "output_type": "stream",
     "text": [
      "true\n"
     ]
    }
   ],
   "source": [
    "integer(20,10)"
   ]
  },
  {
   "cell_type": "code",
   "execution_count": 26,
   "id": "499e621a",
   "metadata": {},
   "outputs": [
    {
     "name": "stdout",
     "output_type": "stream",
     "text": [
      "true\n"
     ]
    }
   ],
   "source": [
    "integer(12,8)"
   ]
  },
  {
   "cell_type": "code",
   "execution_count": 27,
   "id": "c582899f",
   "metadata": {},
   "outputs": [
    {
     "name": "stdout",
     "output_type": "stream",
     "text": [
      "true\n"
     ]
    }
   ],
   "source": [
    "integer(2,3)"
   ]
  },
  {
   "cell_type": "markdown",
   "id": "7431a975",
   "metadata": {},
   "source": [
    "OLD MACDONALD: Write a function that capitalizes the first and fourth letters of a name\n",
    "old_macdonald('macdonald') --> MacDonald\n",
    "Note: 'macdonald'.capitalize() returns 'Macdonald'\n",
    "    "
   ]
  },
  {
   "cell_type": "code",
   "execution_count": 48,
   "id": "2c55ae63",
   "metadata": {},
   "outputs": [],
   "source": [
    "def old_macdonald(name):\n",
    "    nameletter=name[0]\n",
    "    fourthletter=name[3]\n",
    "    newword=[]\n",
    "    for i,l in enumerate(word):\n",
    "        if i[0]:\n",
    "            newword=l.capatalize\n",
    "            return newword\n",
    "        if i[3]:\n",
    "            newword=l.capatalize\n",
    "            return newword"
   ]
  },
  {
   "cell_type": "code",
   "execution_count": 50,
   "id": "92a0bfa6",
   "metadata": {},
   "outputs": [
    {
     "ename": "NameError",
     "evalue": "name 'macdonald' is not defined",
     "output_type": "error",
     "traceback": [
      "\u001b[1;31m---------------------------------------------------------------------------\u001b[0m",
      "\u001b[1;31mNameError\u001b[0m                                 Traceback (most recent call last)",
      "Input \u001b[1;32mIn [50]\u001b[0m, in \u001b[0;36m<cell line: 1>\u001b[1;34m()\u001b[0m\n\u001b[1;32m----> 1\u001b[0m old_macdonald(\u001b[43mmacdonald\u001b[49m)\n",
      "\u001b[1;31mNameError\u001b[0m: name 'macdonald' is not defined"
     ]
    }
   ],
   "source": [
    "old_macdonald(macdonald)"
   ]
  },
  {
   "cell_type": "markdown",
   "id": "5631d27c",
   "metadata": {},
   "source": [
    "ALMOST THERE: Given an integer n, return True if n is within 10 of either 100 or 200\n",
    "almost_there(90) --> True\n",
    "almost_there(104) --> True\n",
    "almost_there(150) --> False\n",
    "almost_there(209) --> True"
   ]
  },
  {
   "cell_type": "code",
   "execution_count": 1,
   "id": "f619eea2",
   "metadata": {},
   "outputs": [],
   "source": [
    "def almost_there(n):\n",
    "    if n==range(10,100) or n==range(10,200):\n",
    "        return true"
   ]
  },
  {
   "cell_type": "code",
   "execution_count": 2,
   "id": "13985dc3",
   "metadata": {},
   "outputs": [],
   "source": [
    "almost_there(104)"
   ]
  },
  {
   "cell_type": "code",
   "execution_count": 3,
   "id": "b8048076",
   "metadata": {},
   "outputs": [],
   "source": [
    "almost_there(200)"
   ]
  },
  {
   "cell_type": "code",
   "execution_count": 4,
   "id": "4eda896d",
   "metadata": {},
   "outputs": [],
   "source": [
    "almost_there(150)"
   ]
  },
  {
   "cell_type": "markdown",
   "id": "77b25e75",
   "metadata": {},
   "source": [
    "FIND 33:\n",
    "Given a list of ints, return True if the array contains a 3 next to a 3 somewhere.\n",
    "\n",
    "has_33([1, 3, 3]) → True\n",
    "has_33([1, 3, 1, 3]) → False\n",
    "has_33([3, 1, 3]) → False"
   ]
  },
  {
   "cell_type": "code",
   "execution_count": 1,
   "id": "5811da4b",
   "metadata": {},
   "outputs": [],
   "source": [
    "x=[1,3,3]"
   ]
  },
  {
   "cell_type": "code",
   "execution_count": 2,
   "id": "e8ae0e4c",
   "metadata": {},
   "outputs": [],
   "source": [
    "def has_33(nums):\n",
    "    if x[1]==x[2] or x[0]==x[1]: \n",
    "        return true"
   ]
  },
  {
   "cell_type": "code",
   "execution_count": 5,
   "id": "c4b0f840",
   "metadata": {},
   "outputs": [],
   "source": [
    "y=[1,3,1,3]"
   ]
  },
  {
   "cell_type": "code",
   "execution_count": 6,
   "id": "09d77270",
   "metadata": {},
   "outputs": [],
   "source": [
    "def has_33(nums):\n",
    "    if y[1]==y[2] or y[0]==y[1]:\n",
    "        return true\n",
    "    else:\n",
    "        return false"
   ]
  },
  {
   "cell_type": "markdown",
   "id": "d740d5ca",
   "metadata": {},
   "source": [
    "PAPER DOLL: Given a string, return a string where for every character in the original there are three characters\n",
    "paper_doll('Hello') --> 'HHHeeellllllooo'\n",
    "paper_doll('Mississippi') --> 'MMMiiissssssiiippppppiii'"
   ]
  },
  {
   "cell_type": "code",
   "execution_count": 13,
   "id": "f81b847a",
   "metadata": {},
   "outputs": [
    {
     "ename": "IndentationError",
     "evalue": "unexpected indent (1108384282.py, line 5)",
     "output_type": "error",
     "traceback": [
      "\u001b[1;36m  Input \u001b[1;32mIn [13]\u001b[1;36m\u001b[0m\n\u001b[1;33m    return result\u001b[0m\n\u001b[1;37m    ^\u001b[0m\n\u001b[1;31mIndentationError\u001b[0m\u001b[1;31m:\u001b[0m unexpected indent\n"
     ]
    }
   ],
   "source": [
    "def paper_doll(text):\n",
    "    result=\"\"\n",
    "for letter in text:\n",
    "    result+=letter*3\n",
    "     return result\n",
    "x=\"hello\"\n",
    "print(paper_doll(hello)\n",
    "print(paper_doll('Mississippi'))"
   ]
  },
  {
   "cell_type": "markdown",
   "id": "bd95a878",
   "metadata": {},
   "source": [
    "LACKJACK: Given three integers between 1 and 11, if their sum is less than or equal to 21, return their sum. If their sum exceeds 21 and there's an eleven, reduce the total sum by 10. Finally, if the sum (even after adjustment) exceeds 21, return 'BUST'\n",
    "blackjack(5,6,7) --> 18\n",
    "blackjack(9,9,9) --> 'BUST'\n",
    "blackjack(9,9,11) --> 19"
   ]
  },
  {
   "cell_type": "code",
   "execution_count": 17,
   "id": "3630cc80",
   "metadata": {},
   "outputs": [],
   "source": [
    "def blackjack(a,b,c):\n",
    "    if a+b+c<=21:\n",
    "        return a+b+c\n",
    "    elif a+b+c>21:\n",
    "        return bust"
   ]
  },
  {
   "cell_type": "markdown",
   "id": "0674176c",
   "metadata": {},
   "source": [
    "SUMMER OF '69: Return the sum of the numbers in the array, except ignore sections of numbers starting with a 6 and extending to the next 9 (every 6 will be followed by at least one 9). Return 0 for no numbers.\n",
    "summer_69([1, 3, 5]) --> 9\n",
    "summer_69([4, 5, 6, 7, 8, 9]) --> 9\n",
    "summer_69([2, 1, 6, 9, 11]) --> 14"
   ]
  },
  {
   "cell_type": "code",
   "execution_count": 22,
   "id": "b4d01c2c",
   "metadata": {},
   "outputs": [
    {
     "ename": "SyntaxError",
     "evalue": "invalid syntax (3563766815.py, line 4)",
     "output_type": "error",
     "traceback": [
      "\u001b[1;36m  Input \u001b[1;32mIn [22]\u001b[1;36m\u001b[0m\n\u001b[1;33m    for i in range(0,len(arr))\u001b[0m\n\u001b[1;37m                              ^\u001b[0m\n\u001b[1;31mSyntaxError\u001b[0m\u001b[1;31m:\u001b[0m invalid syntax\n"
     ]
    }
   ],
   "source": [
    "def summer_69(arr):\n",
    "    list1=arr\n",
    "    summ=int()\n",
    "    for i in range(0,len(arr))\n",
    "    if 6 in list1:\n",
    "        listofrange=range(list1.index(6),list1.index(9)+1)\n",
    "        for index in listofrange:\n",
    "            print(listofrange)\n",
    "            arr[index]=0\n",
    "        if 6 ! =arr[i]:\n",
    "            summ+=arr[i]:\n",
    "        else:\n",
    "            continue\n",
    "        else:\n",
    "            summ+=arr[i]\n",
    "              return summ\n",
    "        summer_69([1,3,5])\n",
    "        summer_69([4,5,6,7,8,9])\n",
    "        summer_69([2,1,6,9,11])"
   ]
  },
  {
   "cell_type": "markdown",
   "id": "f61e9608",
   "metadata": {},
   "source": [
    "SPY GAME: Write a function that takes in a list of integers and returns True if it contains 007 in order\n",
    " spy_game([1,2,4,0,0,7,5]) --> True\n",
    " spy_game([1,0,2,4,0,5,7]) --> True\n",
    " spy_game([1,7,2,0,4,5,0]) --> False"
   ]
  },
  {
   "cell_type": "code",
   "execution_count": 23,
   "id": "0551be9b",
   "metadata": {},
   "outputs": [],
   "source": [
    "def spy_games(arr):\n",
    "    net=0\n",
    "    for num in arr:\n",
    "        if num==0:\n",
    "            num+=net\n",
    "            break\n",
    "            if num==0:\n",
    "                num+=net\n",
    "                break \n",
    "                if num==7:\n",
    "                    return true\n",
    "                else:\n",
    "                    return false\n",
    "            "
   ]
  },
  {
   "cell_type": "code",
   "execution_count": 24,
   "id": "c83b1d68",
   "metadata": {},
   "outputs": [
    {
     "ename": "NameError",
     "evalue": "name 'spy_game' is not defined",
     "output_type": "error",
     "traceback": [
      "\u001b[1;31m---------------------------------------------------------------------------\u001b[0m",
      "\u001b[1;31mNameError\u001b[0m                                 Traceback (most recent call last)",
      "Input \u001b[1;32mIn [24]\u001b[0m, in \u001b[0;36m<cell line: 1>\u001b[1;34m()\u001b[0m\n\u001b[1;32m----> 1\u001b[0m \u001b[43mspy_game\u001b[49m([\u001b[38;5;241m1\u001b[39m,\u001b[38;5;241m2\u001b[39m,\u001b[38;5;241m4\u001b[39m,\u001b[38;5;241m0\u001b[39m,\u001b[38;5;241m0\u001b[39m,\u001b[38;5;241m7\u001b[39m,\u001b[38;5;241m5\u001b[39m])\n",
      "\u001b[1;31mNameError\u001b[0m: name 'spy_game' is not defined"
     ]
    }
   ],
   "source": [
    "spy_game([1,2,4,0,0,7,5])"
   ]
  },
  {
   "cell_type": "code",
   "execution_count": null,
   "id": "8fcba6e0",
   "metadata": {},
   "outputs": [],
   "source": []
  }
 ],
 "metadata": {
  "kernelspec": {
   "display_name": "Python 3 (ipykernel)",
   "language": "python",
   "name": "python3"
  },
  "language_info": {
   "codemirror_mode": {
    "name": "ipython",
    "version": 3
   },
   "file_extension": ".py",
   "mimetype": "text/x-python",
   "name": "python",
   "nbconvert_exporter": "python",
   "pygments_lexer": "ipython3",
   "version": "3.9.12"
  }
 },
 "nbformat": 4,
 "nbformat_minor": 5
}
