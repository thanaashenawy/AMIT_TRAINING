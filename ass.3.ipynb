{
 "cells": [
  {
   "cell_type": "markdown",
   "id": "4cf66a3b",
   "metadata": {},
   "source": [
    "ass.3\n",
    "q1) a user enter the first name,last name, gender and id with 3 numbers then put them in text"
   ]
  },
  {
   "cell_type": "code",
   "execution_count": 1,
   "id": "51ca74a2",
   "metadata": {},
   "outputs": [
    {
     "name": "stdout",
     "output_type": "stream",
     "text": [
      "enter afirst namethanaa\n",
      "enter alast nameshenawy\n",
      "enter agenderfemale\n",
      "enter id for three num123\n"
     ]
    }
   ],
   "source": [
    "x=input(\"enter afirst name\")\n",
    "y=input(\"enter alast name\")\n",
    "z=input(\"enter agender\")\n",
    "r=input(\"enter id for three num\")\n"
   ]
  },
  {
   "cell_type": "code",
   "execution_count": 2,
   "id": "a7072553",
   "metadata": {},
   "outputs": [
    {
     "name": "stdout",
     "output_type": "stream",
     "text": [
      "thanaashenawyfemale123\n"
     ]
    }
   ],
   "source": [
    "f=open('details.txt','w')\n",
    "f.write(x)\n",
    "f.write(y)\n",
    "f.write(z)\n",
    "f.write(r)\n",
    "f.close()\n",
    "\n",
    "f=open(\"details.txt\",\"r\")\n",
    "print(f.read())\n",
    "f.close()"
   ]
  },
  {
   "cell_type": "markdown",
   "id": "7339e780",
   "metadata": {},
   "source": [
    "q2)Write a function to count the number 4 in a given list"
   ]
  },
  {
   "cell_type": "code",
   "execution_count": 109,
   "id": "3cfecac5",
   "metadata": {},
   "outputs": [],
   "source": [
    "x=[1,4,2]"
   ]
  },
  {
   "cell_type": "code",
   "execution_count": 110,
   "id": "d8a3ff74",
   "metadata": {},
   "outputs": [],
   "source": [
    "def count(nums):\n",
    "    count=0\n",
    "    for num in nums:\n",
    "        if num ==4:\n",
    "            count=count+1\n",
    "            return count   "
   ]
  },
  {
   "cell_type": "code",
   "execution_count": 111,
   "id": "1f7736c2",
   "metadata": {},
   "outputs": [
    {
     "name": "stdout",
     "output_type": "stream",
     "text": [
      "1\n"
     ]
    }
   ],
   "source": [
    " print(count(x))\n"
   ]
  },
  {
   "cell_type": "markdown",
   "id": "71262ae3",
   "metadata": {},
   "source": [
    "q3)write a function to check whether a number is divisible by another number."
   ]
  },
  {
   "cell_type": "code",
   "execution_count": 51,
   "id": "7851891d",
   "metadata": {},
   "outputs": [],
   "source": [
    "def devition(x,y):\n",
    "    if x%y ==0:\n",
    "        print('true') \n",
    "    else:\n",
    "        print('false')   "
   ]
  },
  {
   "cell_type": "code",
   "execution_count": 53,
   "id": "2190c798",
   "metadata": {},
   "outputs": [
    {
     "name": "stdout",
     "output_type": "stream",
     "text": [
      "false\n",
      "None\n"
     ]
    }
   ],
   "source": [
    " print(devition(5,6))"
   ]
  },
  {
   "cell_type": "markdown",
   "id": "5332e8f3",
   "metadata": {},
   "source": [
    "write a function to find the maximum and minimum numbers from a sequence of numbers"
   ]
  },
  {
   "cell_type": "code",
   "execution_count": 146,
   "id": "349c1c1d",
   "metadata": {},
   "outputs": [
    {
     "data": {
      "text/plain": [
       "2"
      ]
     },
     "execution_count": 146,
     "metadata": {},
     "output_type": "execute_result"
    }
   ],
   "source": [
    "def find_min(iterable):\n",
    "...     minimum = iterable[0]\n",
    "...     for value in iterable[1:]:\n",
    "...         if value < minimum:\n",
    "...             minimum = value\n",
    "...     return minimum\n",
    "...\n",
    "\n",
    ">>> find_min([2, 5, 3, 9, 7])\n"
   ]
  },
  {
   "cell_type": "code",
   "execution_count": 142,
   "id": "ecac7350",
   "metadata": {},
   "outputs": [
    {
     "data": {
      "text/plain": [
       "10"
      ]
     },
     "execution_count": 142,
     "metadata": {},
     "output_type": "execute_result"
    }
   ],
   "source": [
    "def find_max(iterable):\n",
    "...     maxmum = iterable[0]\n",
    "...     for value in iterable[1:]:\n",
    "...         if value > maxmum:\n",
    "...             maxmum = value\n",
    "...     return maxmum\n",
    "...\n",
    "\n",
    ">>> find_max([2, 5, 3, 1, 9, 7,10])"
   ]
  },
  {
   "cell_type": "markdown",
   "id": "6a944c73",
   "metadata": {},
   "source": [
    "Write a Python function that takes two lists and returns True if they have at least one common member"
   ]
  },
  {
   "cell_type": "code",
   "execution_count": 166,
   "id": "62955bf9",
   "metadata": {},
   "outputs": [
    {
     "name": "stdout",
     "output_type": "stream",
     "text": [
      "True\n"
     ]
    }
   ],
   "source": [
    "def data(list1, list2):\n",
    "     return(len(set(list1) & set(list2)) > 0)\n",
    "print(data([1,2,3,4,5], [5,6,7,8,9]))\n"
   ]
  },
  {
   "cell_type": "markdown",
   "id": "5e8ce5c4",
   "metadata": {},
   "source": [
    "Write a Python function to calculate the factorial of a number (a non-negative integer). The function accepts the number from the user"
   ]
  },
  {
   "cell_type": "code",
   "execution_count": 167,
   "id": "d5cda728",
   "metadata": {},
   "outputs": [
    {
     "name": "stdout",
     "output_type": "stream",
     "text": [
      "enter a num5\n"
     ]
    }
   ],
   "source": [
    "x=int(input('enter a num'))"
   ]
  },
  {
   "cell_type": "code",
   "execution_count": 168,
   "id": "b1f04e7f",
   "metadata": {},
   "outputs": [],
   "source": [
    "def factorial(x):\n",
    "    if x==1:\n",
    "        return 1\n",
    "    else:\n",
    "        return x*factorial(x-1)\n"
   ]
  },
  {
   "cell_type": "code",
   "execution_count": 169,
   "id": "09e46890",
   "metadata": {},
   "outputs": [
    {
     "data": {
      "text/plain": [
       "120"
      ]
     },
     "execution_count": 169,
     "metadata": {},
     "output_type": "execute_result"
    }
   ],
   "source": [
    "factorial(x)"
   ]
  },
  {
   "cell_type": "markdown",
   "id": "93e543f8",
   "metadata": {},
   "source": [
    "Write a Python function to check whether a number is in a given range.¶\n",
    "The range is from 3 to 11"
   ]
  },
  {
   "cell_type": "code",
   "execution_count": 186,
   "id": "baaf2cd9",
   "metadata": {},
   "outputs": [],
   "source": [
    "def check(number,start,end):\n",
    "    if number in range(start,end +1):\n",
    "        print('yes in range')\n",
    "        return number\n",
    "    else:\n",
    "        print('not in range')"
   ]
  },
  {
   "cell_type": "code",
   "execution_count": 199,
   "id": "2f7057e2",
   "metadata": {},
   "outputs": [
    {
     "name": "stdout",
     "output_type": "stream",
     "text": [
      "yes in range\n"
     ]
    }
   ],
   "source": [
    " x=check(4,3,11)\n",
    "    "
   ]
  },
  {
   "cell_type": "code",
   "execution_count": 197,
   "id": "2fe439f3",
   "metadata": {},
   "outputs": [
    {
     "name": "stdout",
     "output_type": "stream",
     "text": [
      "True\n"
     ]
    }
   ],
   "source": [
    "print(p)"
   ]
  },
  {
   "cell_type": "markdown",
   "id": "380f48ad",
   "metadata": {},
   "source": [
    "Write a program to create the multiplication table (from 1 to 10) of a number"
   ]
  },
  {
   "cell_type": "code",
   "execution_count": 200,
   "id": "e974c076",
   "metadata": {},
   "outputs": [
    {
     "name": "stdout",
     "output_type": "stream",
     "text": [
      "Input a number: 5\n",
      "5 x 1 = 5\n",
      "5 x 2 = 10\n",
      "5 x 3 = 15\n",
      "5 x 4 = 20\n",
      "5 x 5 = 25\n",
      "5 x 6 = 30\n",
      "5 x 7 = 35\n",
      "5 x 8 = 40\n",
      "5 x 9 = 45\n",
      "5 x 10 = 50\n"
     ]
    }
   ],
   "source": [
    "n = int(input(\"Input a number: \"))\n",
    "\n",
    "# use for loop to iterate 10 times\n",
    "for i in range(1,11):\n",
    "    print(n,'x',i,'=',n*i)"
   ]
  },
  {
   "cell_type": "markdown",
   "id": "17a72fc3",
   "metadata": {},
   "source": [
    "LESSER OF TWO EVENS: Write a function that returns the lesser of two given numbers if both numbers are even, but returns the greater if one or both numbers are odd\n",
    "lesser_of_two_evens(2,4) --> 2\n",
    "lesser_of_two_evens(2,5) --> 5"
   ]
  },
  {
   "cell_type": "code",
   "execution_count": null,
   "id": "dd116104",
   "metadata": {},
   "outputs": [],
   "source": [
    "# def lesser_of_two_evens(a,b):\n",
    "#     if (a%2==0 and b%2==0):\n",
    "#         if (a>b):\n",
    "#             return b\n",
    "#         else:\n",
    "#             return a\n",
    "#     else:\n",
    "#         if (a>b):\n",
    "#             return a\n",
    "#         else:\n",
    "#             return b\n",
    "        \n",
    "# lesser_of_two_evens(2,4)"
   ]
  },
  {
   "cell_type": "code",
   "execution_count": 211,
   "id": "d83336c2",
   "metadata": {},
   "outputs": [],
   "source": [
    "def lesser_of_two_evens(a,b):\n",
    "    if(a%2==0 and b%2==0):\n",
    "        if(a>b):\n",
    "            return b\n",
    "        else:\n",
    "            if(a<b):\n",
    "                return a\n",
    "            else:\n",
    "                return b          "
   ]
  },
  {
   "cell_type": "code",
   "execution_count": 212,
   "id": "2ad8a140",
   "metadata": {},
   "outputs": [
    {
     "data": {
      "text/plain": [
       "2"
      ]
     },
     "execution_count": 212,
     "metadata": {},
     "output_type": "execute_result"
    }
   ],
   "source": [
    "lesser_of_two_evens(2,4)"
   ]
  },
  {
   "cell_type": "code",
   "execution_count": 216,
   "id": "24273a50",
   "metadata": {},
   "outputs": [],
   "source": [
    "def lesser_of_two_evens(a,b):\n",
    "    if(a%3==0 or b%3==0):\n",
    "        if(a>b):\n",
    "            return a\n",
    "        else:\n",
    "            if(a<b):\n",
    "                return b\n",
    "            else:\n",
    "                return b     "
   ]
  },
  {
   "cell_type": "code",
   "execution_count": 219,
   "id": "3ec73a4f",
   "metadata": {},
   "outputs": [
    {
     "data": {
      "text/plain": [
       "3"
      ]
     },
     "execution_count": 219,
     "metadata": {},
     "output_type": "execute_result"
    }
   ],
   "source": [
    "lesser_of_two_evens(1,3)"
   ]
  },
  {
   "cell_type": "code",
   "execution_count": null,
   "id": "e9d69096",
   "metadata": {},
   "outputs": [],
   "source": []
  }
 ],
 "metadata": {
  "kernelspec": {
   "display_name": "Python 3 (ipykernel)",
   "language": "python",
   "name": "python3"
  },
  "language_info": {
   "codemirror_mode": {
    "name": "ipython",
    "version": 3
   },
   "file_extension": ".py",
   "mimetype": "text/x-python",
   "name": "python",
   "nbconvert_exporter": "python",
   "pygments_lexer": "ipython3",
   "version": "3.9.12"
  }
 },
 "nbformat": 4,
 "nbformat_minor": 5
}
