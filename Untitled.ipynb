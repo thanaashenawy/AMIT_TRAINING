{
 "cells": [
  {
   "cell_type": "markdown",
   "id": "315c5293",
   "metadata": {},
   "source": [
    "task1\n"
   ]
  },
  {
   "cell_type": "code",
   "execution_count": null,
   "id": "6813a34c",
   "metadata": {},
   "outputs": [],
   "source": [
    "#enter two number seprate by comaa"
   ]
  },
  {
   "cell_type": "code",
   "execution_count": 39,
   "id": "2fedf942",
   "metadata": {},
   "outputs": [
    {
     "name": "stdout",
     "output_type": "stream",
     "text": [
      "enter two no. separate by commaa5,8\n"
     ]
    }
   ],
   "source": [
    "x,y =input('enter two no. separate by commaa').split(\",\");\n"
   ]
  },
  {
   "cell_type": "code",
   "execution_count": 40,
   "id": "abb9d296",
   "metadata": {},
   "outputs": [],
   "source": [
    "#another solution"
   ]
  },
  {
   "cell_type": "code",
   "execution_count": 41,
   "id": "455b28f6",
   "metadata": {},
   "outputs": [
    {
     "name": "stdout",
     "output_type": "stream",
     "text": [
      "enter fist no5\n",
      "enter second no6\n"
     ]
    }
   ],
   "source": [
    "x,y=int(input('enter fist no')) , int(input('enter second no'))"
   ]
  },
  {
   "cell_type": "code",
   "execution_count": 49,
   "id": "a2574dc8",
   "metadata": {},
   "outputs": [],
   "source": [
    "#Modify by cell (39) but with error"
   ]
  },
  {
   "cell_type": "code",
   "execution_count": 51,
   "id": "9cb546db",
   "metadata": {},
   "outputs": [
    {
     "name": "stdout",
     "output_type": "stream",
     "text": [
      "enter two no. separate by commaa5,6\n"
     ]
    },
    {
     "ename": "ValueError",
     "evalue": "invalid literal for int() with base 10: '5,6'",
     "output_type": "error",
     "traceback": [
      "\u001b[1;31m---------------------------------------------------------------------------\u001b[0m",
      "\u001b[1;31mValueError\u001b[0m                                Traceback (most recent call last)",
      "Input \u001b[1;32mIn [51]\u001b[0m, in \u001b[0;36m<cell line: 1>\u001b[1;34m()\u001b[0m\n\u001b[1;32m----> 1\u001b[0m x,y \u001b[38;5;241m=\u001b[39m \u001b[38;5;28;43mint\u001b[39;49m\u001b[43m \u001b[49m\u001b[43m(\u001b[49m\u001b[38;5;28;43minput\u001b[39;49m\u001b[43m(\u001b[49m\u001b[38;5;124;43m'\u001b[39;49m\u001b[38;5;124;43menter two no. separate by commaa\u001b[39;49m\u001b[38;5;124;43m'\u001b[39;49m\u001b[43m)\u001b[49m\u001b[43m)\u001b[49m\u001b[38;5;241m.\u001b[39msplit(\u001b[38;5;124m\"\u001b[39m\u001b[38;5;124m,\u001b[39m\u001b[38;5;124m\"\u001b[39m)\n",
      "\u001b[1;31mValueError\u001b[0m: invalid literal for int() with base 10: '5,6'"
     ]
    }
   ],
   "source": [
    "x,y = int (input('enter two no. separate by commaa')).split(\",\");"
   ]
  },
  {
   "cell_type": "code",
   "execution_count": null,
   "id": "9055dde2",
   "metadata": {},
   "outputs": [],
   "source": []
  }
 ],
 "metadata": {
  "kernelspec": {
   "display_name": "Python 3 (ipykernel)",
   "language": "python",
   "name": "python3"
  },
  "language_info": {
   "codemirror_mode": {
    "name": "ipython",
    "version": 3
   },
   "file_extension": ".py",
   "mimetype": "text/x-python",
   "name": "python",
   "nbconvert_exporter": "python",
   "pygments_lexer": "ipython3",
   "version": "3.9.12"
  }
 },
 "nbformat": 4,
 "nbformat_minor": 5
}
