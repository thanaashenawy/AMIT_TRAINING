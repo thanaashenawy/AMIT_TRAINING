{
 "cells": [
  {
   "cell_type": "markdown",
   "id": "003b3582",
   "metadata": {},
   "source": [
    "Magic or Dunder Methods "
   ]
  },
  {
   "cell_type": "markdown",
   "id": "8634c6a7",
   "metadata": {},
   "source": [
    "Example: __new__()"
   ]
  },
  {
   "cell_type": "code",
   "execution_count": 4,
   "id": "7af6df1a",
   "metadata": {},
   "outputs": [],
   "source": [
    "class employee:\n",
    "    def __new__(cls):\n",
    "        print('__new__magic method is called')\n",
    "        inst= object.__new__(cls)\n",
    "        return inst\n",
    "    def __init__(self):\n",
    "        print('__init__magic method is called')\n",
    "        self.name='satya'"
   ]
  },
  {
   "cell_type": "markdown",
   "id": "6b528fe8",
   "metadata": {},
   "source": [
    "Example: __str__()"
   ]
  },
  {
   "cell_type": "code",
   "execution_count": 6,
   "id": "dee2b8dc",
   "metadata": {},
   "outputs": [],
   "source": [
    "\n",
    "\n",
    "class Employee:\n",
    "    def __init__(self):\n",
    "        self.name='Swati'\n",
    "        self.salary=10000\n",
    "    def __str__(self):\n",
    "        return 'name='+self.name+' salary=$'+str(self.salary)\n",
    "\n"
   ]
  },
  {
   "cell_type": "markdown",
   "id": "ce72d24c",
   "metadata": {},
   "source": [
    "Example: Override __add__()"
   ]
  },
  {
   "cell_type": "code",
   "execution_count": 7,
   "id": "b7be4086",
   "metadata": {},
   "outputs": [],
   "source": [
    "\n",
    "\n",
    "class distance:\n",
    "    def __init__(self, x=None,y=None):\n",
    "        self.ft=x\n",
    "        self.inch=y\n",
    "    def __add__(self,x):\n",
    "        temp=distance()\n",
    "        temp.ft=self.ft+x.ft\n",
    "        temp.inch=self.inch+x.inch\n",
    "        if temp.inch>=12:\n",
    "            temp.ft+=1\n",
    "            temp.inch-=12\n",
    "            return temp\n",
    "    def __str__(self):\n",
    "        return 'ft:'+str(self.ft)+' in: '+str(self.inch)\n",
    "\n"
   ]
  },
  {
   "cell_type": "markdown",
   "id": "30b82f18",
   "metadata": {},
   "source": [
    "__ge__() method"
   ]
  },
  {
   "cell_type": "code",
   "execution_count": 8,
   "id": "61cc74e8",
   "metadata": {},
   "outputs": [],
   "source": [
    "\n",
    "\n",
    "class distance:\n",
    "    def __init__(self, x=None,y=None):\n",
    "        self.ft=x\n",
    "        self.inch=y\n",
    "    def __ge__(self, x):\n",
    "        val1=self.ft*12+self.inch\n",
    "        val2=x.ft*12+x.inch\n",
    "        if val1>=val2:\n",
    "            return True\n",
    "        else:\n",
    "            return False\n",
    "\n"
   ]
  },
  {
   "cell_type": "markdown",
   "id": "f79cbe76",
   "metadata": {},
   "source": [
    "*args "
   ]
  },
  {
   "cell_type": "code",
   "execution_count": 9,
   "id": "b39ffe35",
   "metadata": {},
   "outputs": [
    {
     "name": "stdout",
     "output_type": "stream",
     "text": [
      "Hello\n",
      "Welcome\n",
      "to\n",
      "GeeksforGeeks\n"
     ]
    }
   ],
   "source": [
    "def myFun(*argv):\n",
    "\tfor arg in argv:\n",
    "\t\tprint(arg)\n",
    "\n",
    "\n",
    "myFun('Hello', 'Welcome', 'to', 'GeeksforGeeks')\n"
   ]
  },
  {
   "cell_type": "markdown",
   "id": "bf782c61",
   "metadata": {},
   "source": [
    "ex.2"
   ]
  },
  {
   "cell_type": "code",
   "execution_count": 10,
   "id": "aef24ef3",
   "metadata": {},
   "outputs": [
    {
     "name": "stdout",
     "output_type": "stream",
     "text": [
      "First argument : Hello\n",
      "Next argument through *argv : Welcome\n",
      "Next argument through *argv : to\n",
      "Next argument through *argv : GeeksforGeeks\n"
     ]
    }
   ],
   "source": [
    "def myFun(arg1, *argv):\n",
    "\tprint(\"First argument :\", arg1)\n",
    "\tfor arg in argv:\n",
    "\t\tprint(\"Next argument through *argv :\", arg)\n",
    "\n",
    "\n",
    "myFun('Hello', 'Welcome', 'to', 'GeeksforGeeks')\n"
   ]
  },
  {
   "cell_type": "markdown",
   "id": "fab8cbd6",
   "metadata": {},
   "source": [
    "**kwargs"
   ]
  },
  {
   "cell_type": "markdown",
   "id": "1702b7fc",
   "metadata": {},
   "source": [
    "ex.1"
   ]
  },
  {
   "cell_type": "code",
   "execution_count": 11,
   "id": "a2cc935b",
   "metadata": {},
   "outputs": [
    {
     "name": "stdout",
     "output_type": "stream",
     "text": [
      "first == Geeks\n",
      "mid == for\n",
      "last == Geeks\n"
     ]
    }
   ],
   "source": [
    "def myFun(**kwargs):\n",
    "\tfor key, value in kwargs.items():\n",
    "\t\tprint(\"%s == %s\" % (key, value))\n",
    "\n",
    "\n",
    "# Driver code\n",
    "myFun(first='Geeks', mid='for', last='Geeks')\n"
   ]
  },
  {
   "cell_type": "markdown",
   "id": "4b749e16",
   "metadata": {},
   "source": [
    "ex.2"
   ]
  },
  {
   "cell_type": "code",
   "execution_count": 12,
   "id": "af311768",
   "metadata": {},
   "outputs": [
    {
     "name": "stdout",
     "output_type": "stream",
     "text": [
      "first == Geeks\n",
      "mid == for\n",
      "last == Geeks\n"
     ]
    }
   ],
   "source": [
    "def myFun(arg1, **kwargs):\n",
    "\tfor key, value in kwargs.items():\n",
    "\t\tprint(\"%s == %s\" % (key, value))\n",
    "\n",
    "\n",
    "# Driver code\n",
    "myFun(\"Hi\", first='Geeks', mid='for', last='Geeks')\n"
   ]
  },
  {
   "cell_type": "markdown",
   "id": "ee02dfe2",
   "metadata": {},
   "source": [
    "Using both *args and **kwargs to call a function\n",
    "\n",
    "Example 1:"
   ]
  },
  {
   "cell_type": "code",
   "execution_count": 13,
   "id": "47d4f5c9",
   "metadata": {},
   "outputs": [
    {
     "name": "stdout",
     "output_type": "stream",
     "text": [
      "arg1: Geeks\n",
      "arg2: for\n",
      "arg3: Geeks\n",
      "arg1: Geeks\n",
      "arg2: for\n",
      "arg3: Geeks\n"
     ]
    }
   ],
   "source": [
    "def myFun(arg1, arg2, arg3):\n",
    "\tprint(\"arg1:\", arg1)\n",
    "\tprint(\"arg2:\", arg2)\n",
    "\tprint(\"arg3:\", arg3)\n",
    "\n",
    "\n",
    "# Now we can use *args or **kwargs to\n",
    "# pass arguments to this function :\n",
    "args = (\"Geeks\", \"for\", \"Geeks\")\n",
    "myFun(*args)\n",
    "\n",
    "kwargs = {\"arg1\": \"Geeks\", \"arg2\": \"for\", \"arg3\": \"Geeks\"}\n",
    "myFun(**kwargs)\n"
   ]
  },
  {
   "cell_type": "markdown",
   "id": "98f29c16",
   "metadata": {},
   "source": [
    "Example 2:"
   ]
  },
  {
   "cell_type": "code",
   "execution_count": 14,
   "id": "a7d11662",
   "metadata": {},
   "outputs": [
    {
     "name": "stdout",
     "output_type": "stream",
     "text": [
      "args:  ('geeks', 'for', 'geeks')\n",
      "kwargs:  {'first': 'Geeks', 'mid': 'for', 'last': 'Geeks'}\n"
     ]
    }
   ],
   "source": [
    "def myFun(*args, **kwargs):\n",
    "\tprint(\"args: \", args)\n",
    "\tprint(\"kwargs: \", kwargs)\n",
    "\n",
    "\n",
    "# Now we can use both *args ,**kwargs\n",
    "# to pass arguments to this function :\n",
    "myFun('geeks', 'for', 'geeks', first=\"Geeks\", mid=\"for\", last=\"Geeks\")\n"
   ]
  },
  {
   "cell_type": "markdown",
   "id": "a01aea2c",
   "metadata": {},
   "source": [
    "Abstraction and Encapsulation "
   ]
  },
  {
   "cell_type": "code",
   "execution_count": null,
   "id": "6fe55fbd",
   "metadata": {},
   "outputs": [
    {
     "name": "stdout",
     "output_type": "stream",
     "text": [
      "\n",
      "    1.Display Book\n",
      "    2.Borrow Book\n",
      "    3.Return Book\n",
      "\n",
      "Enter Your Choice : 1\n",
      "Available Books\n",
      "C\n",
      "C++\n",
      "Java\n",
      "\n",
      "    1.Display Book\n",
      "    2.Borrow Book\n",
      "    3.Return Book\n",
      "\n",
      "Enter Your Choice : 2\n",
      "Enter Book Name To Borrow : thanaa\n",
      "Book not Available\n",
      "\n",
      "    1.Display Book\n",
      "    2.Borrow Book\n",
      "    3.Return Book\n",
      "\n",
      "Enter Your Choice : 3\n",
      "Enter Book Name To Return : thanaa\n",
      "You have returned the book\n",
      "\n",
      "    1.Display Book\n",
      "    2.Borrow Book\n",
      "    3.Return Book\n",
      "\n",
      "Enter Your Choice : 2\n",
      "Enter Book Name To Borrow : shenawy\n",
      "Book not Available\n",
      "\n",
      "    1.Display Book\n",
      "    2.Borrow Book\n",
      "    3.Return Book\n",
      "\n",
      "Enter Your Choice : 2\n",
      "Enter Book Name To Borrow : thanaa\n",
      "Get Your Book Now\n",
      "\n",
      "    1.Display Book\n",
      "    2.Borrow Book\n",
      "    3.Return Book\n",
      "\n"
     ]
    }
   ],
   "source": [
    "class Library:\n",
    "    def __init__(self, books):\n",
    "        self.books = books\n",
    " \n",
    "    def list_books(self):\n",
    "        print(\"Available Books\")\n",
    "        for book in self.books:\n",
    "            print(book)\n",
    " \n",
    "    def borrow_book(self, borrow_book):\n",
    "        if borrow_book in self.books:\n",
    "            print(\"Get Your Book Now\")\n",
    "            self.books.remove(borrow_book)\n",
    "        else:\n",
    "            print(\"Book not Available\")\n",
    " \n",
    "    def receive_book(self, receive_book):\n",
    "        print(\"You have returned the book\")\n",
    "        self.books.append(receive_book)\n",
    " \n",
    " \n",
    "books = ['C', 'C++', 'Java']\n",
    "o = Library(books)\n",
    " \n",
    "msg = \"\"\"\n",
    "    1.Display Book\n",
    "    2.Borrow Book\n",
    "    3.Return Book\n",
    "\"\"\"\n",
    "while True:\n",
    "    print(msg)\n",
    "    ch = int(input(\"Enter Your Choice : \"))\n",
    "    if ch == 1:\n",
    "        o.list_books()\n",
    "    elif ch == 2:\n",
    "        book = input(\"Enter Book Name To Borrow : \")\n",
    "        o.borrow_book(book)\n",
    "    elif ch == 3:\n",
    "        book = input(\"Enter Book Name To Return : \")\n",
    "        o.receive_book(book)\n",
    "    else:\n",
    "        print(\"Thank You come again\")\n",
    "        quit()"
   ]
  },
  {
   "cell_type": "code",
   "execution_count": null,
   "id": "55b769c7",
   "metadata": {},
   "outputs": [],
   "source": []
  }
 ],
 "metadata": {
  "kernelspec": {
   "display_name": "Python 3 (ipykernel)",
   "language": "python",
   "name": "python3"
  },
  "language_info": {
   "codemirror_mode": {
    "name": "ipython",
    "version": 3
   },
   "file_extension": ".py",
   "mimetype": "text/x-python",
   "name": "python",
   "nbconvert_exporter": "python",
   "pygments_lexer": "ipython3",
   "version": "3.9.12"
  }
 },
 "nbformat": 4,
 "nbformat_minor": 5
}
